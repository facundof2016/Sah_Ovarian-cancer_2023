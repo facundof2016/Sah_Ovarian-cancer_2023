{
 "cells": [
  {
   "cell_type": "code",
   "execution_count": 1,
   "id": "61d5275a",
   "metadata": {},
   "outputs": [
    {
     "name": "stdout",
     "output_type": "stream",
     "text": [
      "C:\\data\\Human OC\\CD data\n"
     ]
    }
   ],
   "source": [
    "cd C:\\data\\Human OC\\CD data"
   ]
  },
  {
   "cell_type": "code",
   "execution_count": 2,
   "id": "996b3edd",
   "metadata": {},
   "outputs": [],
   "source": [
    "import pandas as pd\n",
    "import numpy as np\n",
    "from matplotlib import pyplot as plt\n",
    "from matplotlib import style\n",
    "\n",
    "plt.style.use('ggplot')\n",
    "import scipy\n",
    "\n",
    "import seaborn as sns; sns.set(style='white')\n",
    "\n",
    "import warnings\n",
    "warnings.filterwarnings('ignore')\n",
    "\n",
    "%config InlineBackend.figure_format = 'retina'\n",
    "\n",
    "sns.set_context('talk', font_scale=0.8)\n",
    "import statsmodels as sms\n",
    "from statsmodels.stats import multitest\n",
    "from statistics import mean\n",
    "\n",
    "\n",
    "from sklearn.metrics import roc_curve, auc\n",
    "from sklearn.metrics import roc_auc_score\n",
    "from sklearn.ensemble import RandomForestClassifier\n",
    "from sklearn import metrics\n",
    "from sklearn.feature_selection import SelectFromModel\n",
    "from sklearn import model_selection\n",
    "from sklearn.model_selection import train_test_split\n",
    "from sklearn.model_selection import KFold\n",
    "from sklearn import decomposition\n",
    "from sklearn.feature_selection import RFECV\n"
   ]
  },
  {
   "cell_type": "code",
   "execution_count": 4,
   "id": "ffe759c1",
   "metadata": {},
   "outputs": [
    {
     "data": {
      "text/html": [
       "<div>\n",
       "<style scoped>\n",
       "    .dataframe tbody tr th:only-of-type {\n",
       "        vertical-align: middle;\n",
       "    }\n",
       "\n",
       "    .dataframe tbody tr th {\n",
       "        vertical-align: top;\n",
       "    }\n",
       "\n",
       "    .dataframe thead th {\n",
       "        text-align: right;\n",
       "    }\n",
       "</style>\n",
       "<table border=\"1\" class=\"dataframe\">\n",
       "  <thead>\n",
       "    <tr style=\"text-align: right;\">\n",
       "      <th></th>\n",
       "      <th>sample</th>\n",
       "      <th>stage_sorted</th>\n",
       "      <th>stage_early</th>\n",
       "      <th>type</th>\n",
       "      <th>type_sorted</th>\n",
       "      <th>stage</th>\n",
       "      <th>hospital</th>\n",
       "      <th>age</th>\n",
       "      <th>class_</th>\n",
       "      <th>group</th>\n",
       "    </tr>\n",
       "  </thead>\n",
       "  <tbody>\n",
       "    <tr>\n",
       "      <th>0</th>\n",
       "      <td>OC41</td>\n",
       "      <td>Stage1</td>\n",
       "      <td>Early</td>\n",
       "      <td>ENDOMETRIOID</td>\n",
       "      <td>endometrioid</td>\n",
       "      <td>1c</td>\n",
       "      <td>Severance</td>\n",
       "      <td>42</td>\n",
       "      <td>OC</td>\n",
       "      <td>OC</td>\n",
       "    </tr>\n",
       "    <tr>\n",
       "      <th>1</th>\n",
       "      <td>OC4</td>\n",
       "      <td>Stage1</td>\n",
       "      <td>Early</td>\n",
       "      <td>CLEAR CELL</td>\n",
       "      <td>clear cell</td>\n",
       "      <td>1a</td>\n",
       "      <td>Severance</td>\n",
       "      <td>39</td>\n",
       "      <td>OC</td>\n",
       "      <td>OC</td>\n",
       "    </tr>\n",
       "    <tr>\n",
       "      <th>2</th>\n",
       "      <td>OC86</td>\n",
       "      <td>Stage1</td>\n",
       "      <td>Early</td>\n",
       "      <td>clear cell</td>\n",
       "      <td>clear cell</td>\n",
       "      <td>1A</td>\n",
       "      <td>Severance</td>\n",
       "      <td>39</td>\n",
       "      <td>OC</td>\n",
       "      <td>OC</td>\n",
       "    </tr>\n",
       "    <tr>\n",
       "      <th>3</th>\n",
       "      <td>OC123</td>\n",
       "      <td>Stage1</td>\n",
       "      <td>Early</td>\n",
       "      <td>Clear cell</td>\n",
       "      <td>clear cell</td>\n",
       "      <td>1A</td>\n",
       "      <td>Severance</td>\n",
       "      <td>43</td>\n",
       "      <td>OC</td>\n",
       "      <td>OC</td>\n",
       "    </tr>\n",
       "    <tr>\n",
       "      <th>4</th>\n",
       "      <td>OC82</td>\n",
       "      <td>Stage1</td>\n",
       "      <td>Early</td>\n",
       "      <td>Clear cell</td>\n",
       "      <td>clear cell</td>\n",
       "      <td>1a</td>\n",
       "      <td>Severance</td>\n",
       "      <td>44</td>\n",
       "      <td>OC</td>\n",
       "      <td>OC</td>\n",
       "    </tr>\n",
       "  </tbody>\n",
       "</table>\n",
       "</div>"
      ],
      "text/plain": [
       "  sample stage_sorted stage_early           type   type_sorted stage  \\\n",
       "0   OC41       Stage1       Early   ENDOMETRIOID  endometrioid    1c   \n",
       "1    OC4       Stage1       Early     CLEAR CELL    clear cell    1a   \n",
       "2   OC86       Stage1       Early     clear cell    clear cell    1A   \n",
       "3  OC123       Stage1       Early     Clear cell    clear cell    1A   \n",
       "4   OC82       Stage1       Early     Clear cell    clear cell    1a   \n",
       "\n",
       "    hospital  age class_ group  \n",
       "0  Severance   42     OC    OC  \n",
       "1  Severance   39     OC    OC  \n",
       "2  Severance   39     OC    OC  \n",
       "3  Severance   43     OC    OC  \n",
       "4  Severance   44     OC    OC  "
      ]
     },
     "execution_count": 4,
     "metadata": {},
     "output_type": "execute_result"
    }
   ],
   "source": [
    "df = pd.read_excel('metadata final selected patients.xlsx')\n",
    "df.head()"
   ]
  },
  {
   "cell_type": "code",
   "execution_count": 5,
   "id": "7387b643",
   "metadata": {},
   "outputs": [],
   "source": [
    "other = df[(df['group'] == 'other')]\n",
    "OC = df[(df['group'] == 'OC')]"
   ]
  },
  {
   "cell_type": "markdown",
   "id": "93c33468",
   "metadata": {},
   "source": [
    "<a id=\"1\"></a>\n",
    "### Significance test between ages of OC and non-OC patients"
   ]
  },
  {
   "cell_type": "code",
   "execution_count": 7,
   "id": "ddc58e73",
   "metadata": {},
   "outputs": [],
   "source": [
    "def metadata_Ttest(metadata, dfNon_OC, dfOC, alpha=0.05, var=True):\n",
    "    \n",
    "    statistic, pvalue = scipy.stats.ttest_ind(dfNon_OC[metadata], dfOC[metadata], \n",
    "                                              equal_var=var)\n",
    "    \n",
    "    for pval in pvalue:\n",
    "        if pvalue > alpha:\n",
    "            comment = 'Not significant'\n",
    "        else:\n",
    "            comment = 'Significant'\n",
    "    comment\n",
    "            \n",
    "    Table = pd.DataFrame({'Confounder': metadata, \n",
    "                        'T-test p-value': pvalue, 'Significance':comment}) \n",
    "                             \n",
    "    return Table"
   ]
  },
  {
   "cell_type": "code",
   "execution_count": 8,
   "id": "2cb3c0d4",
   "metadata": {},
   "outputs": [
    {
     "data": {
      "text/html": [
       "<div>\n",
       "<style scoped>\n",
       "    .dataframe tbody tr th:only-of-type {\n",
       "        vertical-align: middle;\n",
       "    }\n",
       "\n",
       "    .dataframe tbody tr th {\n",
       "        vertical-align: top;\n",
       "    }\n",
       "\n",
       "    .dataframe thead th {\n",
       "        text-align: right;\n",
       "    }\n",
       "</style>\n",
       "<table border=\"1\" class=\"dataframe\">\n",
       "  <thead>\n",
       "    <tr style=\"text-align: right;\">\n",
       "      <th></th>\n",
       "      <th>Confounder</th>\n",
       "      <th>T-test p-value</th>\n",
       "      <th>Significance</th>\n",
       "    </tr>\n",
       "  </thead>\n",
       "  <tbody>\n",
       "    <tr>\n",
       "      <th>0</th>\n",
       "      <td>age</td>\n",
       "      <td>0.124349</td>\n",
       "      <td>Not significant</td>\n",
       "    </tr>\n",
       "  </tbody>\n",
       "</table>\n",
       "</div>"
      ],
      "text/plain": [
       "  Confounder  T-test p-value     Significance\n",
       "0        age        0.124349  Not significant"
      ]
     },
     "execution_count": 8,
     "metadata": {},
     "output_type": "execute_result"
    }
   ],
   "source": [
    "metadata = ['age'] \n",
    "metadata_Ttest(metadata,other,OC)"
   ]
  },
  {
   "cell_type": "code",
   "execution_count": 9,
   "id": "64e2970e",
   "metadata": {},
   "outputs": [
    {
     "name": "stdout",
     "output_type": "stream",
     "text": [
      "Average age for OC patients is 51.97\n",
      "Average age for non-OC patients is 49.94\n"
     ]
    }
   ],
   "source": [
    "print('Average age for OC patients is %.2f' %OC['age'].mean())\n",
    "print('Average age for non-OC patients is %.2f' %other['age'].mean())"
   ]
  },
  {
   "cell_type": "markdown",
   "id": "591be490",
   "metadata": {},
   "source": [
    "<a id=\"2\"></a>\n",
    "### Cohort characteristics "
   ]
  },
  {
   "cell_type": "code",
   "execution_count": 10,
   "id": "a209e082",
   "metadata": {},
   "outputs": [
    {
     "name": "stdout",
     "output_type": "stream",
     "text": [
      "Number of patients with Ovarian cancer 208\n",
      "Number of patients with Non ovarian cancer malignancies is 117\n",
      "Total number of patients after cohort matching is 325\n",
      "\n",
      "OC     208\n",
      "CC      46\n",
      "BOT     41\n",
      "BUT     28\n",
      "B        2\n",
      "Name: class_, dtype: int64\n"
     ]
    }
   ],
   "source": [
    "print('Number of patients with Ovarian cancer 208\\nNumber of patients with Non ovarian cancer malignancies is 117\\nTotal number of patients after cohort matching is 325\\n')\n",
    "print(df.class_.value_counts())"
   ]
  },
  {
   "cell_type": "code",
   "execution_count": 11,
   "id": "4713e486",
   "metadata": {},
   "outputs": [
    {
     "name": "stdout",
     "output_type": "stream",
     "text": [
      "Severance    234\n",
      "Dongsan       91\n",
      "Name: hospital, dtype: int64\n"
     ]
    }
   ],
   "source": [
    "print(df.hospital.value_counts())"
   ]
  },
  {
   "cell_type": "code",
   "execution_count": 12,
   "id": "4ef6c57a",
   "metadata": {},
   "outputs": [
    {
     "name": "stdout",
     "output_type": "stream",
     "text": [
      "Number of OC patients at Severance and Dongsan hospital \n",
      " Severance    141\n",
      "Dongsan       67\n",
      "Name: hospital, dtype: int64\n"
     ]
    }
   ],
   "source": [
    "print('Number of OC patients at Severance and Dongsan hospital \\n', OC.hospital.value_counts())"
   ]
  },
  {
   "cell_type": "code",
   "execution_count": 13,
   "id": "0fbd8a4b",
   "metadata": {},
   "outputs": [
    {
     "name": "stdout",
     "output_type": "stream",
     "text": [
      "Ovarian cancer pathological stage count:\n",
      "\n",
      "Stage3    88\n",
      "Stage1    73\n",
      "Stage2    20\n",
      "Stage4    17\n",
      "StageR    10\n",
      "Name: stage_sorted, dtype: int64\n"
     ]
    }
   ],
   "source": [
    "print('Ovarian cancer pathological stage count:\\n')\n",
    "print(df.stage_sorted.value_counts())\n",
    "#other = non OC malignancies \n",
    "#R = reccurence "
   ]
  },
  {
   "cell_type": "code",
   "execution_count": 14,
   "id": "90d8d559",
   "metadata": {},
   "outputs": [
    {
     "name": "stdout",
     "output_type": "stream",
     "text": [
      "Late          105\n",
      "Early          93\n",
      "reccurence     10\n",
      "Name: stage_early, dtype: int64\n"
     ]
    }
   ],
   "source": [
    "print(OC.stage_early.value_counts())"
   ]
  },
  {
   "cell_type": "code",
   "execution_count": 15,
   "id": "7e7c66ee",
   "metadata": {},
   "outputs": [
    {
     "name": "stdout",
     "output_type": "stream",
     "text": [
      "Number of patients with early stage serous carcinoma is 29 \n",
      "\n",
      "serous            127\n",
      "clear cell         32\n",
      "Mucinous           19\n",
      "endometrioid       18\n",
      "MMMT                5\n",
      "transitional        3\n",
      "Adenocarcinoma      2\n",
      "clear/serous        1\n",
      "LGSC                1\n",
      "Name: type_sorted, dtype: int64\n"
     ]
    }
   ],
   "source": [
    "print(\"Number of patients with early stage serous carcinoma is 29 \\n\")\n",
    "print(OC.type_sorted.value_counts())"
   ]
  },
  {
   "cell_type": "code",
   "execution_count": null,
   "id": "19a35405",
   "metadata": {},
   "outputs": [],
   "source": []
  }
 ],
 "metadata": {
  "kernelspec": {
   "display_name": "Python 3 (ipykernel)",
   "language": "python",
   "name": "python3"
  },
  "language_info": {
   "codemirror_mode": {
    "name": "ipython",
    "version": 3
   },
   "file_extension": ".py",
   "mimetype": "text/x-python",
   "name": "python",
   "nbconvert_exporter": "python",
   "pygments_lexer": "ipython3",
   "version": "3.9.7"
  }
 },
 "nbformat": 4,
 "nbformat_minor": 5
}
